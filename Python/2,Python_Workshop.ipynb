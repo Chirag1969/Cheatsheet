{
 "cells": [
  {
   "cell_type": "code",
   "execution_count": 1,
   "metadata": {},
   "outputs": [
    {
     "name": "stdout",
     "output_type": "stream",
     "text": [
      "3.3333333333333335 3 30 1000\n"
     ]
    }
   ],
   "source": [
    "a = 10\n",
    "b = 3\n",
    "c = a/b\n",
    "d = a//b #int c\n",
    "e = a*b\n",
    "f = a**b #a to the power of b\n",
    "print(c, d, e, f)"
   ]
  },
  {
   "cell_type": "code",
   "execution_count": 2,
   "metadata": {},
   "outputs": [
    {
     "name": "stdout",
     "output_type": "stream",
     "text": [
      "30\n"
     ]
    }
   ],
   "source": [
    "a = 10\n",
    "b = 20\n",
    "\n",
    "print(a | b)"
   ]
  },
  {
   "cell_type": "code",
   "execution_count": 3,
   "metadata": {},
   "outputs": [
    {
     "name": "stdout",
     "output_type": "stream",
     "text": [
      "0\n"
     ]
    }
   ],
   "source": [
    "print(a & b)"
   ]
  },
  {
   "cell_type": "code",
   "execution_count": 4,
   "metadata": {},
   "outputs": [
    {
     "name": "stdout",
     "output_type": "stream",
     "text": [
      "20\n"
     ]
    }
   ],
   "source": [
    "print (a and b)"
   ]
  },
  {
   "cell_type": "code",
   "execution_count": 5,
   "metadata": {},
   "outputs": [
    {
     "name": "stdout",
     "output_type": "stream",
     "text": [
      "10\n"
     ]
    }
   ],
   "source": [
    "print(a or b)"
   ]
  },
  {
   "cell_type": "code",
   "execution_count": 8,
   "metadata": {},
   "outputs": [
    {
     "name": "stdout",
     "output_type": "stream",
     "text": [
      "20 10 0.33333333333333337 3000000\n"
     ]
    }
   ],
   "source": [
    "a = 10\n",
    "b = 20\n",
    "b -= 10\n",
    "a += 10\n",
    "d *= 10 #Here d would be taken from cell 1\n",
    "c /= 10 #Here c would be taken from cell 1\n",
    "\n",
    "d = d*10\n",
    "\n",
    "print(a, b, c, d)"
   ]
  },
  {
   "cell_type": "code",
   "execution_count": 9,
   "metadata": {},
   "outputs": [
    {
     "name": "stdout",
     "output_type": "stream",
     "text": [
      "2.0\n"
     ]
    }
   ],
   "source": [
    "import math #we r importing a librarynaming math\n",
    "a = math.log(100, 10)\n",
    "print(a)"
   ]
  },
  {
   "cell_type": "code",
   "execution_count": 12,
   "metadata": {},
   "outputs": [
    {
     "name": "stdout",
     "output_type": "stream",
     "text": [
      "2.061153622438558e-09\n"
     ]
    }
   ],
   "source": [
    "import math as mt #some libraraies have quite big names so we can import them as some short variable.\n",
    "a = mt.exp(-20)\n",
    "print(a)"
   ]
  },
  {
   "cell_type": "code",
   "execution_count": 15,
   "metadata": {},
   "outputs": [
    {
     "name": "stdout",
     "output_type": "stream",
     "text": [
      "It's a beautifull day\n",
      "It is a \"beautifull\" day\n"
     ]
    }
   ],
   "source": [
    "x = \"It's a beautifull day\"\n",
    "y ='It is a \"beautifull\" day'\n",
    "print(x)\n",
    "print(y)"
   ]
  },
  {
   "cell_type": "code",
   "execution_count": 16,
   "metadata": {},
   "outputs": [
    {
     "name": "stdout",
     "output_type": "stream",
     "text": [
      "21\n"
     ]
    }
   ],
   "source": [
    "z = len(x) #lenght of the charachter\n",
    "print(z)"
   ]
  },
  {
   "cell_type": "code",
   "execution_count": 18,
   "metadata": {},
   "outputs": [
    {
     "name": "stdout",
     "output_type": "stream",
     "text": [
      "IT'S A BEAUTIFULL DAY\n",
      "it is a \"beautifull\" day\n"
     ]
    }
   ],
   "source": [
    "print(x.upper()) #converts in upper case\n",
    "print(y.lower()) #converts in lower case"
   ]
  },
  {
   "cell_type": "code",
   "execution_count": 19,
   "metadata": {},
   "outputs": [
    {
     "name": "stdout",
     "output_type": "stream",
     "text": [
      "This\n"
     ]
    }
   ],
   "source": [
    "xy = \"This is our second workshop\"\n",
    "print(xy[0:4]) #It will print starting from 0th character till (4-1) characters i.e. 3 here. "
   ]
  },
  {
   "cell_type": "code",
   "execution_count": 1,
   "metadata": {},
   "outputs": [
    {
     "name": "stdout",
     "output_type": "stream",
     "text": [
      "           This is our second workshop        \n",
      "This is our second workshop\n",
      "['This', 'is', 'our', 'second', 'workshop']\n"
     ]
    }
   ],
   "source": [
    "xy = \"           This is our second workshop        \"\n",
    "print(xy)\n",
    "print(xy.strip()) #It removes the any extra spaces present in the beginning or at the end.\n",
    "#As few words are quite big so we cannot count alwayas their characheters hence we use this function instead of the above\n",
    "print(xy.split()) "
   ]
  },
  {
   "cell_type": "code",
   "execution_count": null,
   "metadata": {},
   "outputs": [],
   "source": []
  },
  {
   "cell_type": "code",
   "execution_count": null,
   "metadata": {},
   "outputs": [],
   "source": [
    "#Data Structures\n",
    "1. Lists\n",
    "2. Tuples\n",
    "3. Dictionaries\n",
    "4. Sets\n",
    "\n",
    "#Lists: [0-1-2-3-4-13-6-7-8-9]\n",
    "#Tuples: (0-1-2-3-4-5-6-7-8-9)\n",
    "#Dictionaries: ('Apple': 4, 'Banana': 3)\n",
    "#Sets: (a, b, c, d)"
   ]
  },
  {
   "cell_type": "code",
   "execution_count": 29,
   "metadata": {},
   "outputs": [
    {
     "name": "stdout",
     "output_type": "stream",
     "text": [
      "second\n"
     ]
    }
   ],
   "source": [
    "y = list(xy.split())\n",
    "print(y[3])"
   ]
  },
  {
   "cell_type": "code",
   "execution_count": 34,
   "metadata": {},
   "outputs": [
    {
     "name": "stdout",
     "output_type": "stream",
     "text": [
      "6\n",
      "<class 'list'>\n",
      "Apple\n",
      "2\n"
     ]
    }
   ],
   "source": [
    "#Lists\n",
    "\n",
    "L = [4,3,5,6,2]  #Using square brackets tell python that u r making a list\n",
    "L1 = ['abc', 'def', 'jsn']\n",
    "L2 = [2.3, 5.3, 789.32]\n",
    "\n",
    "L3 = [4, 'Apple', 1.5, 12, 'Hello', [1, 2]]\n",
    "\n",
    "print(len(L3))\n",
    "print(type(L3))\n",
    "print(L3[1])\n",
    "print(L3[5][1]) #L3 ke 5 per ek or list hai or us list mein se 2 ko print karwane liye humne [5] ke aage [1] likha"
   ]
  },
  {
   "cell_type": "code",
   "execution_count": 36,
   "metadata": {},
   "outputs": [
    {
     "name": "stdout",
     "output_type": "stream",
     "text": [
      "App\n"
     ]
    }
   ],
   "source": [
    "print(L3[1][:3]) #Apple mein se App ko print karwane ke liye, Is mein yeh ho raha hai ki, pehle L3[1] likhne se vo 1st element (0 se start karne ke baad) per jayega joki apple hai, phir humne [:3] likha jis mein hum use aise b likh skte the [0:3] 0 likho ya kuch b naa likho baat same he hai, iska matlab hai ki hum 0th character se lekar 2nd (3-1) character tak print kareinge i.e. App. "
   ]
  },
  {
   "cell_type": "code",
   "execution_count": 38,
   "metadata": {},
   "outputs": [
    {
     "name": "stdout",
     "output_type": "stream",
     "text": [
      "4\n",
      "Apple\n",
      "1.5\n",
      "12\n",
      "Hello\n",
      "[1, 2]\n"
     ]
    }
   ],
   "source": [
    "i = 0\n",
    "while i<len(L3):\n",
    "    print(L3[i])\n",
    "    i+=1"
   ]
  },
  {
   "cell_type": "code",
   "execution_count": 10,
   "metadata": {},
   "outputs": [
    {
     "name": "stdout",
     "output_type": "stream",
     "text": [
      "4\n",
      "Apple\n",
      "1.5\n",
      "12\n",
      "Hello\n",
      "[1, 2]\n"
     ]
    }
   ],
   "source": [
    "for i in L3:  #i in L3 ka matlab hai ki ab L3 mein jo b items hongi vo sab i aquire kar lega and ek ek kar ke print kar dega. \n",
    "    print(i)"
   ]
  },
  {
   "cell_type": "code",
   "execution_count": 41,
   "metadata": {},
   "outputs": [
    {
     "name": "stdout",
     "output_type": "stream",
     "text": [
      "4\n",
      "Apple\n",
      "1.5\n",
      "12\n",
      "Hello\n",
      "[1, 2]\n"
     ]
    }
   ],
   "source": [
    "for i in range(0, len(L3)):\n",
    "    print(L3[i])"
   ]
  },
  {
   "cell_type": "code",
   "execution_count": 42,
   "metadata": {},
   "outputs": [
    {
     "name": "stdout",
     "output_type": "stream",
     "text": [
      "[4, 'Apple', 1.5]\n"
     ]
    }
   ],
   "source": [
    "print(L3[:3]) #L3 mein 0 se start hokar 3-1 i.e. 2nd element tak print kardo"
   ]
  },
  {
   "cell_type": "code",
   "execution_count": 14,
   "metadata": {},
   "outputs": [
    {
     "name": "stdout",
     "output_type": "stream",
     "text": [
      "Hello\n"
     ]
    }
   ],
   "source": [
    "print(L3[-2]) #-2 ka matlab peeche se second element ko print kardo (peeche se counting 1 se he shuru hogi because agar hum 0 print karne ko kahenge to vo sabse pehla element print kar dega and -0 naam ki koi cheez nahi hoti hai isliye direct -1 se he shuru hoga)"
   ]
  },
  {
   "cell_type": "code",
   "execution_count": 16,
   "metadata": {},
   "outputs": [
    {
     "name": "stdout",
     "output_type": "stream",
     "text": [
      "[4, 'Apple', 1.5, 12, 'Hello', [1, 2], 'Bananas']\n"
     ]
    }
   ],
   "source": [
    "L3.append('Bananas')  #append adds 1 element to the last of the list\n",
    "print(L3)"
   ]
  },
  {
   "cell_type": "code",
   "execution_count": 45,
   "metadata": {},
   "outputs": [
    {
     "name": "stdout",
     "output_type": "stream",
     "text": [
      "[4, 'Apple', 'Thapar', 1.5, 12, 'Hello', [1, 2], 'Bananas']\n"
     ]
    }
   ],
   "source": [
    "L3.insert(2, 'Thapar') #To add an item in a list at a particular position\n",
    "print(L3)"
   ]
  },
  {
   "cell_type": "code",
   "execution_count": 47,
   "metadata": {},
   "outputs": [
    {
     "name": "stdout",
     "output_type": "stream",
     "text": [
      "[4, 'First', 'Second', 'First', 'Second', 'Apple', 'Thapar', 1.5, 12, 'Hello', [1, 2], 'Bananas']\n"
     ]
    }
   ],
   "source": [
    "L3.insert(1, 'First')\n",
    "L3.insert(2, 'Second')\n",
    "print(L3)"
   ]
  },
  {
   "cell_type": "code",
   "execution_count": 48,
   "metadata": {},
   "outputs": [
    {
     "name": "stdout",
     "output_type": "stream",
     "text": [
      "[4, 'First', 'Second', 'First', 'Second', 'Apple', 'Thapar', 1.5, 12, 'Hello', [1, 2], 'Bananas', 'extension', 12, 3, 8]\n"
     ]
    }
   ],
   "source": [
    "lis = ['extension', 12, 3, 8]  #any new list\n",
    "L3.extend(lis) #(extending this list to the previous list i.e. L3)\n",
    "print(L3)"
   ]
  },
  {
   "cell_type": "code",
   "execution_count": 50,
   "metadata": {},
   "outputs": [
    {
     "name": "stdout",
     "output_type": "stream",
     "text": [
      "[4, 'First', 'Second', 'First', 'Second', 'Apple', 12, 'Hello', [1, 2], 'Bananas', 'extension', 12, 3, 8]\n"
     ]
    }
   ],
   "source": [
    "del L3[6] #delets the 6th element\n",
    "print(L3)"
   ]
  },
  {
   "cell_type": "code",
   "execution_count": 51,
   "metadata": {},
   "outputs": [
    {
     "name": "stdout",
     "output_type": "stream",
     "text": [
      "[4, 'First', 'Second', 'First', 'Second', 12, 'Hello', [1, 2], 'Bananas', 'extension', 12, 3, 8]\n"
     ]
    }
   ],
   "source": [
    "L3.remove('Apple') #To remove a prticular element with its name\n",
    "print(L3)"
   ]
  },
  {
   "cell_type": "code",
   "execution_count": 52,
   "metadata": {},
   "outputs": [
    {
     "name": "stdout",
     "output_type": "stream",
     "text": [
      "[4, 'Second', 'First', 'Second', 12, 'Hello', [1, 2], 'Bananas', 'extension', 12, 3, 8]\n"
     ]
    }
   ],
   "source": [
    "L3.remove('First') #agar do same elements present hon or hum usko remove karde to pehle jo element likha hoga vo delete ho jayega \n",
    "print(L3)"
   ]
  },
  {
   "cell_type": "code",
   "execution_count": 53,
   "metadata": {},
   "outputs": [
    {
     "data": {
      "text/plain": [
       "'Second'"
      ]
     },
     "execution_count": 53,
     "metadata": {},
     "output_type": "execute_result"
    }
   ],
   "source": [
    "L3.pop(3) #It delets as well as tells us that which element it has removed whereas del only deletes the element"
   ]
  },
  {
   "cell_type": "code",
   "execution_count": 60,
   "metadata": {},
   "outputs": [
    {
     "name": "stdout",
     "output_type": "stream",
     "text": [
      "514\n",
      "6\n",
      "85.66666666666667\n",
      "420\n",
      "3\n",
      "[3, 5, 7, 10, 69, 420]\n",
      "[420, 69, 10, 7, 5, 3]\n",
      "[3, 5, 7, 10, 69, 420]\n"
     ]
    }
   ],
   "source": [
    "L = [3, 5, 7, 69, 420, 10]\n",
    "print(sum(L)) # To find sum of the list\n",
    "print(len(L)) #to find lenght of the list or number of elements in the list\n",
    "print(sum(L)/len(L)) #To find average of the list\n",
    "print(max(L)) #To find the maximum value in the list\n",
    "print(min(L)) #To find minimum value in the list\n",
    "\n",
    "L.sort() #To sort the list in ascending order\n",
    "\n",
    "print(L)\n",
    "print(L[::-1]) #To print it in reverse order; yahan -1 ka matlab hai ki we want the list to start printing from back\n",
    "\n",
    "L1 = sorted(L) #l1 L ki sorted list ban jayegi\n",
    "print(L1)"
   ]
  },
  {
   "cell_type": "code",
   "execution_count": 61,
   "metadata": {},
   "outputs": [
    {
     "name": "stdout",
     "output_type": "stream",
     "text": [
      "[3, 5, 7, 10, 69, 420, 3, 5, 7, 10, 69, 420, 3, 5, 7, 10, 69, 420, 3, 5, 7, 10, 69, 420, 3, 5, 7, 10, 69, 420]\n"
     ]
    }
   ],
   "source": [
    "print(L*5) #Vo L list ko 5 baar print kar dega"
   ]
  },
  {
   "cell_type": "code",
   "execution_count": 62,
   "metadata": {},
   "outputs": [
    {
     "name": "stdout",
     "output_type": "stream",
     "text": [
      "[15, 25, 35, 50, 345, 2100]\n"
     ]
    }
   ],
   "source": [
    "L2 = [i*5 for i in L] #ek nayi list banani hai jis humne purani list ke har value ko 5 se multiply kar diya hai. \n",
    "print(L2)"
   ]
  },
  {
   "cell_type": "code",
   "execution_count": 63,
   "metadata": {},
   "outputs": [
    {
     "name": "stdout",
     "output_type": "stream",
     "text": [
      "True\n"
     ]
    }
   ],
   "source": [
    "print(69 in L) #To know if that element is present in the list"
   ]
  },
  {
   "cell_type": "code",
   "execution_count": 64,
   "metadata": {},
   "outputs": [
    {
     "data": {
      "text/plain": [
       "4"
      ]
     },
     "execution_count": 64,
     "metadata": {},
     "output_type": "execute_result"
    }
   ],
   "source": [
    "L.index(69) #To know at which place 69 is located in the List"
   ]
  },
  {
   "cell_type": "code",
   "execution_count": 65,
   "metadata": {},
   "outputs": [],
   "source": [
    "#P.S Rana sir is very good in Machine Learning at Thapar"
   ]
  },
  {
   "cell_type": "code",
   "execution_count": 66,
   "metadata": {},
   "outputs": [
    {
     "name": "stdout",
     "output_type": "stream",
     "text": [
      "Help on class list in module builtins:\n",
      "\n",
      "class list(object)\n",
      " |  list(iterable=(), /)\n",
      " |  \n",
      " |  Built-in mutable sequence.\n",
      " |  \n",
      " |  If no argument is given, the constructor creates a new empty list.\n",
      " |  The argument must be an iterable if specified.\n",
      " |  \n",
      " |  Methods defined here:\n",
      " |  \n",
      " |  __add__(self, value, /)\n",
      " |      Return self+value.\n",
      " |  \n",
      " |  __contains__(self, key, /)\n",
      " |      Return key in self.\n",
      " |  \n",
      " |  __delitem__(self, key, /)\n",
      " |      Delete self[key].\n",
      " |  \n",
      " |  __eq__(self, value, /)\n",
      " |      Return self==value.\n",
      " |  \n",
      " |  __ge__(self, value, /)\n",
      " |      Return self>=value.\n",
      " |  \n",
      " |  __getattribute__(self, name, /)\n",
      " |      Return getattr(self, name).\n",
      " |  \n",
      " |  __getitem__(...)\n",
      " |      x.__getitem__(y) <==> x[y]\n",
      " |  \n",
      " |  __gt__(self, value, /)\n",
      " |      Return self>value.\n",
      " |  \n",
      " |  __iadd__(self, value, /)\n",
      " |      Implement self+=value.\n",
      " |  \n",
      " |  __imul__(self, value, /)\n",
      " |      Implement self*=value.\n",
      " |  \n",
      " |  __init__(self, /, *args, **kwargs)\n",
      " |      Initialize self.  See help(type(self)) for accurate signature.\n",
      " |  \n",
      " |  __iter__(self, /)\n",
      " |      Implement iter(self).\n",
      " |  \n",
      " |  __le__(self, value, /)\n",
      " |      Return self<=value.\n",
      " |  \n",
      " |  __len__(self, /)\n",
      " |      Return len(self).\n",
      " |  \n",
      " |  __lt__(self, value, /)\n",
      " |      Return self<value.\n",
      " |  \n",
      " |  __mul__(self, value, /)\n",
      " |      Return self*value.\n",
      " |  \n",
      " |  __ne__(self, value, /)\n",
      " |      Return self!=value.\n",
      " |  \n",
      " |  __repr__(self, /)\n",
      " |      Return repr(self).\n",
      " |  \n",
      " |  __reversed__(self, /)\n",
      " |      Return a reverse iterator over the list.\n",
      " |  \n",
      " |  __rmul__(self, value, /)\n",
      " |      Return value*self.\n",
      " |  \n",
      " |  __setitem__(self, key, value, /)\n",
      " |      Set self[key] to value.\n",
      " |  \n",
      " |  __sizeof__(self, /)\n",
      " |      Return the size of the list in memory, in bytes.\n",
      " |  \n",
      " |  append(self, object, /)\n",
      " |      Append object to the end of the list.\n",
      " |  \n",
      " |  clear(self, /)\n",
      " |      Remove all items from list.\n",
      " |  \n",
      " |  copy(self, /)\n",
      " |      Return a shallow copy of the list.\n",
      " |  \n",
      " |  count(self, value, /)\n",
      " |      Return number of occurrences of value.\n",
      " |  \n",
      " |  extend(self, iterable, /)\n",
      " |      Extend list by appending elements from the iterable.\n",
      " |  \n",
      " |  index(self, value, start=0, stop=9223372036854775807, /)\n",
      " |      Return first index of value.\n",
      " |      \n",
      " |      Raises ValueError if the value is not present.\n",
      " |  \n",
      " |  insert(self, index, object, /)\n",
      " |      Insert object before index.\n",
      " |  \n",
      " |  pop(self, index=-1, /)\n",
      " |      Remove and return item at index (default last).\n",
      " |      \n",
      " |      Raises IndexError if list is empty or index is out of range.\n",
      " |  \n",
      " |  remove(self, value, /)\n",
      " |      Remove first occurrence of value.\n",
      " |      \n",
      " |      Raises ValueError if the value is not present.\n",
      " |  \n",
      " |  reverse(self, /)\n",
      " |      Reverse *IN PLACE*.\n",
      " |  \n",
      " |  sort(self, /, *, key=None, reverse=False)\n",
      " |      Stable sort *IN PLACE*.\n",
      " |  \n",
      " |  ----------------------------------------------------------------------\n",
      " |  Static methods defined here:\n",
      " |  \n",
      " |  __new__(*args, **kwargs) from builtins.type\n",
      " |      Create and return a new object.  See help(type) for accurate signature.\n",
      " |  \n",
      " |  ----------------------------------------------------------------------\n",
      " |  Data and other attributes defined here:\n",
      " |  \n",
      " |  __hash__ = None\n",
      "\n"
     ]
    }
   ],
   "source": [
    "help(list) #this shows all the commands related to list in python"
   ]
  },
  {
   "cell_type": "code",
   "execution_count": null,
   "metadata": {},
   "outputs": [],
   "source": []
  }
 ],
 "metadata": {
  "kernelspec": {
   "display_name": "Python 3",
   "language": "python",
   "name": "python3"
  },
  "language_info": {
   "codemirror_mode": {
    "name": "ipython",
    "version": 3
   },
   "file_extension": ".py",
   "mimetype": "text/x-python",
   "name": "python",
   "nbconvert_exporter": "python",
   "pygments_lexer": "ipython3",
   "version": "3.7.9"
  }
 },
 "nbformat": 4,
 "nbformat_minor": 4
}
